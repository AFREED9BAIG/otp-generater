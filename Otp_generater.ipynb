{
  "nbformat": 4,
  "nbformat_minor": 0,
  "metadata": {
    "colab": {
      "private_outputs": true,
      "provenance": [],
      "collapsed_sections": []
    },
    "kernelspec": {
      "name": "python3",
      "display_name": "Python 3"
    },
    "language_info": {
      "name": "python"
    }
  },
  "cells": [
    {
      "cell_type": "code",
      "execution_count": null,
      "metadata": {
        "id": "VAsOVI6r3ovY"
      },
      "outputs": [],
      "source": [
        "## Project: OTP Generator\n",
        "# Generate a 6 character OTP\n",
        "import random as r\n",
        "import string\n",
        "length = 6 \n",
        "otp = ''\n",
        "characters = string.ascii_letters + string.digits\n",
        "\n",
        "for i in range(length):\n",
        "  otp = otp + r.choice(characters)\n",
        "\n",
        "print(\"OTP:\", otp)"
      ]
    }
  ]
}